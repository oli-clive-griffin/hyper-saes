{
 "cells": [
  {
   "cell_type": "code",
   "execution_count": 1,
   "metadata": {},
   "outputs": [],
   "source": [
    "import torch\n",
    "from torch import nn\n",
    "\n",
    "class SAE(nn.Module):\n",
    "    def __init__(self, d_model: int, hidden_features: int, feature_dim: int):\n",
    "        super().__init__()\n",
    "        self.d_model = d_model\n",
    "        self.hidden_features = hidden_features\n",
    "        self.feature_dim = feature_dim\n",
    "\n",
    "        self.W_enc_DH = nn.Parameter(torch.randn(d_model, hidden_features, feature_dim))\n",
    "        self.b_enc_H = nn.Parameter(torch.randn(hidden_features, feature_dim))\n",
    "\n",
    "        self.W_dec_HD = nn.Parameter(torch.randn(hidden_features, feature_dim, d_model))\n",
    "        self.b_dec_D = nn.Parameter(torch.randn(d_model))\n",
    "\n"
   ]
  }
 ],
 "metadata": {
  "kernelspec": {
   "display_name": ".venv",
   "language": "python",
   "name": "python3"
  },
  "language_info": {
   "codemirror_mode": {
    "name": "ipython",
    "version": 3
   },
   "file_extension": ".py",
   "mimetype": "text/x-python",
   "name": "python",
   "nbconvert_exporter": "python",
   "pygments_lexer": "ipython3",
   "version": "3.12.3"
  }
 },
 "nbformat": 4,
 "nbformat_minor": 2
}
